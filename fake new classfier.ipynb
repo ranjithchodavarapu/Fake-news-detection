{
 "cells": [
  {
   "cell_type": "code",
   "execution_count": 49,
   "metadata": {},
   "outputs": [],
   "source": [
    "import pandas as pd\n",
    "import numpy as np"
   ]
  },
  {
   "cell_type": "code",
   "execution_count": 50,
   "metadata": {},
   "outputs": [],
   "source": [
    "data=pd.read_csv('data.csv')"
   ]
  },
  {
   "cell_type": "code",
   "execution_count": 51,
   "metadata": {},
   "outputs": [
    {
     "data": {
      "text/html": [
       "<div>\n",
       "<style scoped>\n",
       "    .dataframe tbody tr th:only-of-type {\n",
       "        vertical-align: middle;\n",
       "    }\n",
       "\n",
       "    .dataframe tbody tr th {\n",
       "        vertical-align: top;\n",
       "    }\n",
       "\n",
       "    .dataframe thead th {\n",
       "        text-align: right;\n",
       "    }\n",
       "</style>\n",
       "<table border=\"1\" class=\"dataframe\">\n",
       "  <thead>\n",
       "    <tr style=\"text-align: right;\">\n",
       "      <th></th>\n",
       "      <th>URLs</th>\n",
       "      <th>Headline</th>\n",
       "      <th>Body</th>\n",
       "      <th>Label</th>\n",
       "    </tr>\n",
       "  </thead>\n",
       "  <tbody>\n",
       "    <tr>\n",
       "      <th>0</th>\n",
       "      <td>http://www.bbc.com/news/world-us-canada-414191...</td>\n",
       "      <td>Four ways Bob Corker skewered Donald Trump</td>\n",
       "      <td>Image copyright Getty Images\\nOn Sunday mornin...</td>\n",
       "      <td>1</td>\n",
       "    </tr>\n",
       "    <tr>\n",
       "      <th>1</th>\n",
       "      <td>https://www.reuters.com/article/us-filmfestiva...</td>\n",
       "      <td>Linklater's war veteran comedy speaks to moder...</td>\n",
       "      <td>LONDON (Reuters) - “Last Flag Flying”, a comed...</td>\n",
       "      <td>1</td>\n",
       "    </tr>\n",
       "    <tr>\n",
       "      <th>2</th>\n",
       "      <td>https://www.nytimes.com/2017/10/09/us/politics...</td>\n",
       "      <td>Trump’s Fight With Corker Jeopardizes His Legi...</td>\n",
       "      <td>The feud broke into public view last week when...</td>\n",
       "      <td>1</td>\n",
       "    </tr>\n",
       "    <tr>\n",
       "      <th>3</th>\n",
       "      <td>https://www.reuters.com/article/us-mexico-oil-...</td>\n",
       "      <td>Egypt's Cheiron wins tie-up with Pemex for Mex...</td>\n",
       "      <td>MEXICO CITY (Reuters) - Egypt’s Cheiron Holdin...</td>\n",
       "      <td>1</td>\n",
       "    </tr>\n",
       "    <tr>\n",
       "      <th>4</th>\n",
       "      <td>http://www.cnn.com/videos/cnnmoney/2017/10/08/...</td>\n",
       "      <td>Jason Aldean opens 'SNL' with Vegas tribute</td>\n",
       "      <td>Country singer Jason Aldean, who was performin...</td>\n",
       "      <td>1</td>\n",
       "    </tr>\n",
       "  </tbody>\n",
       "</table>\n",
       "</div>"
      ],
      "text/plain": [
       "                                                URLs  \\\n",
       "0  http://www.bbc.com/news/world-us-canada-414191...   \n",
       "1  https://www.reuters.com/article/us-filmfestiva...   \n",
       "2  https://www.nytimes.com/2017/10/09/us/politics...   \n",
       "3  https://www.reuters.com/article/us-mexico-oil-...   \n",
       "4  http://www.cnn.com/videos/cnnmoney/2017/10/08/...   \n",
       "\n",
       "                                            Headline  \\\n",
       "0         Four ways Bob Corker skewered Donald Trump   \n",
       "1  Linklater's war veteran comedy speaks to moder...   \n",
       "2  Trump’s Fight With Corker Jeopardizes His Legi...   \n",
       "3  Egypt's Cheiron wins tie-up with Pemex for Mex...   \n",
       "4        Jason Aldean opens 'SNL' with Vegas tribute   \n",
       "\n",
       "                                                Body  Label  \n",
       "0  Image copyright Getty Images\\nOn Sunday mornin...      1  \n",
       "1  LONDON (Reuters) - “Last Flag Flying”, a comed...      1  \n",
       "2  The feud broke into public view last week when...      1  \n",
       "3  MEXICO CITY (Reuters) - Egypt’s Cheiron Holdin...      1  \n",
       "4  Country singer Jason Aldean, who was performin...      1  "
      ]
     },
     "execution_count": 51,
     "metadata": {},
     "output_type": "execute_result"
    }
   ],
   "source": [
    "data.head()"
   ]
  },
  {
   "cell_type": "code",
   "execution_count": 52,
   "metadata": {},
   "outputs": [
    {
     "data": {
      "text/plain": [
       "1872"
      ]
     },
     "execution_count": 52,
     "metadata": {},
     "output_type": "execute_result"
    }
   ],
   "source": [
    "data[\"Label\"].sum()"
   ]
  },
  {
   "cell_type": "code",
   "execution_count": 53,
   "metadata": {},
   "outputs": [],
   "source": [
    "data=data.drop(['URLs'],axis=1)"
   ]
  },
  {
   "cell_type": "code",
   "execution_count": 54,
   "metadata": {},
   "outputs": [
    {
     "data": {
      "text/plain": [
       "Headline    False\n",
       "Body         True\n",
       "Label       False\n",
       "dtype: bool"
      ]
     },
     "execution_count": 54,
     "metadata": {},
     "output_type": "execute_result"
    }
   ],
   "source": [
    "data.isnull().any()"
   ]
  },
  {
   "cell_type": "code",
   "execution_count": 55,
   "metadata": {},
   "outputs": [],
   "source": [
    "data=data.dropna()"
   ]
  },
  {
   "cell_type": "code",
   "execution_count": 56,
   "metadata": {},
   "outputs": [
    {
     "data": {
      "text/html": [
       "<div>\n",
       "<style scoped>\n",
       "    .dataframe tbody tr th:only-of-type {\n",
       "        vertical-align: middle;\n",
       "    }\n",
       "\n",
       "    .dataframe tbody tr th {\n",
       "        vertical-align: top;\n",
       "    }\n",
       "\n",
       "    .dataframe thead th {\n",
       "        text-align: right;\n",
       "    }\n",
       "</style>\n",
       "<table border=\"1\" class=\"dataframe\">\n",
       "  <thead>\n",
       "    <tr style=\"text-align: right;\">\n",
       "      <th></th>\n",
       "      <th>Headline</th>\n",
       "      <th>Body</th>\n",
       "      <th>Label</th>\n",
       "    </tr>\n",
       "  </thead>\n",
       "  <tbody>\n",
       "    <tr>\n",
       "      <th>0</th>\n",
       "      <td>Four ways Bob Corker skewered Donald Trump</td>\n",
       "      <td>Image copyright Getty Images\\nOn Sunday mornin...</td>\n",
       "      <td>1</td>\n",
       "    </tr>\n",
       "    <tr>\n",
       "      <th>1</th>\n",
       "      <td>Linklater's war veteran comedy speaks to moder...</td>\n",
       "      <td>LONDON (Reuters) - “Last Flag Flying”, a comed...</td>\n",
       "      <td>1</td>\n",
       "    </tr>\n",
       "    <tr>\n",
       "      <th>2</th>\n",
       "      <td>Trump’s Fight With Corker Jeopardizes His Legi...</td>\n",
       "      <td>The feud broke into public view last week when...</td>\n",
       "      <td>1</td>\n",
       "    </tr>\n",
       "    <tr>\n",
       "      <th>3</th>\n",
       "      <td>Egypt's Cheiron wins tie-up with Pemex for Mex...</td>\n",
       "      <td>MEXICO CITY (Reuters) - Egypt’s Cheiron Holdin...</td>\n",
       "      <td>1</td>\n",
       "    </tr>\n",
       "    <tr>\n",
       "      <th>4</th>\n",
       "      <td>Jason Aldean opens 'SNL' with Vegas tribute</td>\n",
       "      <td>Country singer Jason Aldean, who was performin...</td>\n",
       "      <td>1</td>\n",
       "    </tr>\n",
       "  </tbody>\n",
       "</table>\n",
       "</div>"
      ],
      "text/plain": [
       "                                            Headline  \\\n",
       "0         Four ways Bob Corker skewered Donald Trump   \n",
       "1  Linklater's war veteran comedy speaks to moder...   \n",
       "2  Trump’s Fight With Corker Jeopardizes His Legi...   \n",
       "3  Egypt's Cheiron wins tie-up with Pemex for Mex...   \n",
       "4        Jason Aldean opens 'SNL' with Vegas tribute   \n",
       "\n",
       "                                                Body  Label  \n",
       "0  Image copyright Getty Images\\nOn Sunday mornin...      1  \n",
       "1  LONDON (Reuters) - “Last Flag Flying”, a comed...      1  \n",
       "2  The feud broke into public view last week when...      1  \n",
       "3  MEXICO CITY (Reuters) - Egypt’s Cheiron Holdin...      1  \n",
       "4  Country singer Jason Aldean, who was performin...      1  "
      ]
     },
     "execution_count": 56,
     "metadata": {},
     "output_type": "execute_result"
    }
   ],
   "source": [
    "data.head()"
   ]
  },
  {
   "cell_type": "code",
   "execution_count": 66,
   "metadata": {},
   "outputs": [],
   "source": [
    "x=data.iloc[:,:-1].values\n",
    "y=data['Label']"
   ]
  },
  {
   "cell_type": "code",
   "execution_count": 69,
   "metadata": {},
   "outputs": [
    {
     "data": {
      "text/plain": [
       "array(['Four ways Bob Corker skewered Donald Trump',\n",
       "       'Image copyright Getty Images\\nOn Sunday morning, Donald Trump went off on a Twitter tirade against a member of his own party.\\nThis, in itself, isn\\'t exactly huge news. It\\'s far from the first time the president has turned his rhetorical cannons on his own ranks.\\nThis time, however, his attacks were particularly biting and personal. He essentially called Tennessee Senator Bob Corker, the chair of the powerful Senate Foreign Relations Committee, a coward for not running for re-election.\\nHe said Mr Corker \"begged\" for the president\\'s endorsement, which he refused to give. He wrongly claimed that Mr Corker\\'s support of the Iranian nuclear agreement was his only political accomplishment.\\nUnlike some of his colleagues, Mr Corker - free from having to worry about his immediate political future - didn\\'t hold his tongue.\\nSkip Twitter post by @SenBobCorker It\\'s a shame the White House has become an adult day care center. Someone obviously missed their shift this morning. — Senator Bob Corker (@SenBobCorker) October 8, 2017 Report\\nThat wasn\\'t the end of it, though. He then spoke with the New York Times and really let the president have it. Here are four choice quotes from the Tennessee senator\\'s interview with the Times and why they are particularly damning.\\n\"I don\\'t know why the president tweets out things that are not true. You know he does it, everyone knows he does it, but he does.\"\\nYou can\\'t really sugarcoat this one. Mr Corker is flat-out saying the president is a liar - and everyone knows it.\\nThe senator, in particular, is challenging Mr Trump\\'s insistence that he unsuccessfully pleaded for his endorsement, but the accusation is much broader.\\nMr Corker and the president used to be something akin to allies. The Tennessean was on Mr Trump\\'s short list for vice-president and secretary of state.\\nImage copyright Getty Images Image caption Bob Corker at Trump campaign rally in July 2016\\nThose days are seemingly very much over now - and it\\'s not like Mr Corker is going anywhere anytime soon. Although he\\'s not running for re-election, he\\'ll be in the Senate, chairing a powerful committee, until January 2019.\\nThe president\\'s margin for success in that chamber is razor-thin. If Democrats can continue to stand together in opposition, he can afford to lose only two votes out of 52 Republican senators. That\\'s why healthcare reform collapsed in July - and it could be bad news for tax efforts.\\nFrom here on out, Mr Corker isn\\'t going to do the president any favours.\\n\"Look, except for a few people, the vast majority of our caucus understands what we\\'re dealing with here.\"\\nFrustration in Congress has been growing over what Republicans feel has been the president\\'s inability to focus on advancing their agenda. Getting a sharply divided party to come together on plans to repeal Obamacare, reform taxes or boost infrastructure spending is challenging enough. Doing so when the president stirs up unrelated controversies on a seemingly daily basis makes things all the harder.\\nOne of the president\\'s gifts has been his ability to shake off negative stories by quickly moving on to a different subject. That worked brilliantly during his presidential campaign, but it\\'s less effective during the legislative slow grind.\\nImage copyright Getty Images Image caption Corker at the confirmation hearing for Secretary of State Rex Tillerson\\nFor months, Republicans in Congress have been grumbling about this in the background and among themselves. Occasionally, someone like Mr McConnell will lament that the president doesn\\'t understand how the Senate works.\\nMr Corker has now stated it loud and clear. And, what\\'s more, he says almost everyone agrees with him. They\\'ve kept silent until now because they still hope to pass conservative legislation that the president can sign or fear Mr Trump\\'s legions will back a primary challenge next year or stay home during the general election.\\nIf that calculus ever changes - if it becomes riskier to stay silent than speak out - Mr Trump will be in real trouble.\\n\"A lot of people think that there is some kind of \\'good cop, bad cop\\' act underway, but that\\'s just not true.\"\\nTime and again, Mr Trump has appeared to undercut Secretary of State Rex Tillerson and others in his administration who are attempting to use soft diplomacy to deal with a range of international crises.\\nThe war against the Taliban in Afghanistan, Iran\\'s compliance with the multinational nuclear agreement, the ongoing dispute between Qatar and its Persian Gulf neighbours, the unrest in Venezuela and, most recently, North Korea\\'s continued ballistic missile tests have all been the target of the president\\'s offhand remarks and Twitter invective.\\nSome administration defenders have said this is all a part of Mr Trump\\'s strategy - an updated version of the Nixon-era \"madman theory\", in which the president forces adversaries to give way because they fear an unpredictable US leader\\'s actions.\\nMr Corker isn\\'t buying it. There\\'s no strategy, he says, just the possibility of chaos - which he hopes Mr Trump\\'s senior advisers will be able to avoid.\\n\"I know for a fact that every single day at the White House, it\\'s a situation of trying to contain him.\"\\nThere\\'s now a growing collection of John Kelly face-palm photos that serve as a testament to the chief-of-staff\\'s reported frustration at dealing with the president.\\nMr Trump goes off-script to praise torch-bearing white nationalists at a rally in Charlottesville, and Mr Kelly is captured closing his eyes and rubbing the arch of his nose, as if attempting to stave off a migraine.\\nImage copyright Reuters Image caption White House Chief of Staff John Kelly looks on as US President Donald Trump speaks at a campaign rally\\nThe president calls North Korean leaders \"criminals\" in a speech to the United Nations, and Mr Kelly straight-up buries his face in his hands.\\nThe White House communications team is often left scrambling to try to explain or reframe an indelicate presidential \"joke\" or remark that directly contradicts what was until then the official administration line.\\nEven though Mr Kelly has brought some discipline to the West Wing staff, the president still marches to the beat of his own drum - and continues to have unfettered access to his phone\\'s Twitter app.\\nBob Corker is only the latest person - politician, journalist, sports star or celebrity - to feel the mercurial president\\'s uncontainable ire.'],\n",
       "      dtype=object)"
      ]
     },
     "execution_count": 69,
     "metadata": {},
     "output_type": "execute_result"
    }
   ],
   "source": [
    "x[0]"
   ]
  },
  {
   "cell_type": "code",
   "execution_count": 64,
   "metadata": {},
   "outputs": [
    {
     "data": {
      "text/plain": [
       "1"
      ]
     },
     "execution_count": 64,
     "metadata": {},
     "output_type": "execute_result"
    }
   ],
   "source": [
    "y[0]"
   ]
  },
  {
   "cell_type": "code",
   "execution_count": 68,
   "metadata": {},
   "outputs": [],
   "source": [
    "from sklearn.feature_extraction.text import CountVectorizer"
   ]
  },
  {
   "cell_type": "code",
   "execution_count": 74,
   "metadata": {},
   "outputs": [],
   "source": [
    "cv=CountVectorizer(max_features=5000)\n",
    "m_b=cv.fit_transform(x[:,1]).todense()"
   ]
  },
  {
   "cell_type": "code",
   "execution_count": 75,
   "metadata": {},
   "outputs": [
    {
     "data": {
      "text/plain": [
       "matrix([[0, 0, 0, ..., 0, 0, 0],\n",
       "        [0, 0, 0, ..., 0, 0, 0],\n",
       "        [0, 0, 0, ..., 0, 0, 0],\n",
       "        ...,\n",
       "        [0, 2, 0, ..., 0, 0, 0],\n",
       "        [0, 0, 0, ..., 0, 0, 0],\n",
       "        [0, 0, 0, ..., 0, 0, 0]], dtype=int64)"
      ]
     },
     "execution_count": 75,
     "metadata": {},
     "output_type": "execute_result"
    }
   ],
   "source": [
    "m_b"
   ]
  },
  {
   "cell_type": "code",
   "execution_count": 76,
   "metadata": {},
   "outputs": [],
   "source": [
    "ccv=CountVectorizer(max_features=5000)\n",
    "m_h=cv.fit_transform(x[:,0]).todense()"
   ]
  },
  {
   "cell_type": "code",
   "execution_count": 77,
   "metadata": {},
   "outputs": [
    {
     "data": {
      "text/plain": [
       "matrix([[0, 0, 0, ..., 0, 0, 0],\n",
       "        [0, 0, 0, ..., 0, 0, 0],\n",
       "        [0, 0, 0, ..., 0, 0, 0],\n",
       "        ...,\n",
       "        [1, 0, 0, ..., 0, 0, 0],\n",
       "        [0, 0, 0, ..., 0, 0, 0],\n",
       "        [0, 0, 0, ..., 0, 0, 0]], dtype=int64)"
      ]
     },
     "execution_count": 77,
     "metadata": {},
     "output_type": "execute_result"
    }
   ],
   "source": [
    "m_h"
   ]
  },
  {
   "cell_type": "code",
   "execution_count": 80,
   "metadata": {},
   "outputs": [],
   "source": [
    "x_mat=np.hstack((m_h,m_b))"
   ]
  },
  {
   "cell_type": "markdown",
   "metadata": {},
   "source": []
  },
  {
   "cell_type": "code",
   "execution_count": 81,
   "metadata": {},
   "outputs": [
    {
     "data": {
      "text/plain": [
       "matrix([[0, 0, 0, ..., 0, 0, 0],\n",
       "        [0, 0, 0, ..., 0, 0, 0],\n",
       "        [0, 0, 0, ..., 0, 0, 0],\n",
       "        ...,\n",
       "        [1, 0, 0, ..., 0, 0, 0],\n",
       "        [0, 0, 0, ..., 0, 0, 0],\n",
       "        [0, 0, 0, ..., 0, 0, 0]], dtype=int64)"
      ]
     },
     "execution_count": 81,
     "metadata": {},
     "output_type": "execute_result"
    }
   ],
   "source": [
    "x_mat"
   ]
  },
  {
   "cell_type": "code",
   "execution_count": 82,
   "metadata": {},
   "outputs": [],
   "source": [
    "from sklearn.ensemble import ExtraTreesClassifier"
   ]
  },
  {
   "cell_type": "code",
   "execution_count": 83,
   "metadata": {},
   "outputs": [
    {
     "data": {
      "text/plain": [
       "array([4.90651286e-05, 8.58625595e-06, 0.00000000e+00, ...,\n",
       "       6.90709083e-05, 1.47335264e-05, 1.52283955e-04])"
      ]
     },
     "execution_count": 83,
     "metadata": {},
     "output_type": "execute_result"
    }
   ],
   "source": [
    "model=ExtraTreesClassifier()\n",
    "model.fit(x_mat,y)\n",
    "model.feature_importances_"
   ]
  },
  {
   "cell_type": "code",
   "execution_count": 85,
   "metadata": {},
   "outputs": [],
   "source": [
    "import matplotlib .pyplot as plt"
   ]
  },
  {
   "cell_type": "code",
   "execution_count": 86,
   "metadata": {},
   "outputs": [
    {
     "data": {
      "image/png": "[encoded data removed]",
      "text/plain": [
       "<Figure size 432x288 with 1 Axes>"
      ]
     },
     "metadata": {
      "needs_background": "light"
     },
     "output_type": "display_data"
    }
   ],
   "source": [
    "fet=pd.Series(model.feature_importances_)\n",
    "fet.nlargest(5).plot(kind='barh')\n",
    "plt.show()"
   ]
  },
  {
   "cell_type": "code",
   "execution_count": 87,
   "metadata": {},
   "outputs": [],
   "source": [
    "import sklearn"
   ]
  },
  {
   "cell_type": "code",
   "execution_count": 88,
   "metadata": {},
   "outputs": [
    {
     "name": "stdout",
     "output_type": "stream",
     "text": [
      "[[0 0 0 ... 0 0 0]\n",
      " [0 0 0 ... 0 0 0]\n",
      " [0 0 0 ... 0 0 0]\n",
      " ...\n",
      " [0 0 0 ... 0 0 0]\n",
      " [0 0 0 ... 0 0 0]\n",
      " [0 0 0 ... 0 0 0]] 3474    1\n",
      "948     1\n",
      "1050    1\n",
      "1149    0\n",
      "2079    0\n",
      "       ..\n",
      "1843    1\n",
      "805     1\n",
      "1094    0\n",
      "2862    0\n",
      "1982    0\n",
      "Name: Label, Length: 3589, dtype: int64\n"
     ]
    }
   ],
   "source": [
    "x_train, x_test, y_train, y_test = sklearn.model_selection.train_test_split(x_mat, y, test_size = 0.1)\n",
    "print(x_train,y_train)"
   ]
  },
  {
   "cell_type": "code",
   "execution_count": 89,
   "metadata": {},
   "outputs": [],
   "source": [
    "from sklearn.tree import DecisionTreeClassifier"
   ]
  },
  {
   "cell_type": "code",
   "execution_count": 90,
   "metadata": {},
   "outputs": [],
   "source": [
    "cls1=DecisionTreeClassifier()\n",
    "cls1.fit(x_train,y_train)\n",
    "\n",
    "pre1=cls1.predict(x_test)"
   ]
  },
  {
   "cell_type": "code",
   "execution_count": 91,
   "metadata": {},
   "outputs": [
    {
     "data": {
      "text/plain": [
       "array([1, 0, 0, 1, 0, 1, 1, 0, 0, 1, 1, 0, 0, 1, 1, 1, 0, 0, 1, 1, 0, 0,\n",
       "       0, 1, 0, 1, 0, 0, 0, 0, 0, 1, 1, 1, 0, 1, 1, 0, 0, 1, 0, 1, 0, 0,\n",
       "       1, 1, 1, 0, 0, 0, 1, 1, 1, 0, 0, 0, 1, 1, 0, 1, 1, 0, 1, 1, 1, 0,\n",
       "       1, 0, 0, 1, 1, 0, 1, 1, 1, 1, 0, 1, 1, 0, 1, 1, 0, 0, 1, 1, 0, 1,\n",
       "       1, 0, 0, 1, 1, 0, 0, 0, 1, 1, 0, 0, 0, 1, 1, 0, 0, 1, 1, 0, 0, 0,\n",
       "       1, 0, 1, 1, 1, 1, 0, 1, 0, 0, 1, 0, 0, 1, 1, 1, 0, 0, 0, 1, 1, 0,\n",
       "       0, 0, 0, 0, 1, 0, 1, 1, 1, 0, 1, 1, 0, 0, 1, 0, 0, 1, 1, 0, 1, 1,\n",
       "       1, 0, 1, 1, 0, 0, 0, 0, 1, 0, 0, 1, 0, 0, 0, 1, 1, 0, 1, 0, 0, 0,\n",
       "       0, 1, 0, 0, 1, 0, 0, 0, 1, 1, 0, 0, 1, 1, 0, 1, 0, 0, 1, 0, 0, 0,\n",
       "       1, 0, 0, 0, 0, 1, 0, 1, 1, 0, 0, 1, 0, 0, 1, 0, 1, 0, 1, 0, 0, 1,\n",
       "       1, 0, 1, 1, 0, 1, 0, 1, 0, 1, 1, 1, 0, 1, 0, 0, 1, 1, 1, 1, 1, 0,\n",
       "       0, 0, 0, 0, 1, 0, 0, 0, 0, 0, 1, 1, 0, 0, 0, 1, 0, 0, 1, 1, 0, 0,\n",
       "       0, 0, 0, 1, 1, 1, 1, 1, 0, 1, 0, 0, 1, 1, 1, 1, 0, 1, 0, 1, 1, 1,\n",
       "       1, 0, 1, 1, 0, 1, 0, 1, 0, 0, 1, 0, 1, 0, 0, 0, 1, 1, 0, 0, 0, 0,\n",
       "       1, 0, 0, 1, 0, 1, 1, 0, 1, 1, 0, 0, 1, 1, 0, 1, 0, 0, 1, 0, 0, 0,\n",
       "       0, 0, 0, 0, 1, 1, 0, 0, 0, 0, 0, 0, 1, 1, 1, 0, 0, 1, 0, 1, 1, 0,\n",
       "       0, 1, 1, 1, 1, 1, 0, 0, 0, 1, 0, 1, 0, 0, 0, 1, 1, 1, 1, 0, 1, 0,\n",
       "       0, 0, 0, 1, 0, 1, 0, 1, 1, 0, 1, 1, 0, 1, 1, 0, 1, 0, 0, 1, 0, 0,\n",
       "       1, 0, 1], dtype=int64)"
      ]
     },
     "execution_count": 91,
     "metadata": {},
     "output_type": "execute_result"
    }
   ],
   "source": [
    "pre1"
   ]
  },
  {
   "cell_type": "code",
   "execution_count": 92,
   "metadata": {},
   "outputs": [
    {
     "data": {
      "text/plain": [
       "1151    1\n",
       "3346    0\n",
       "2692    0\n",
       "29      1\n",
       "160     0\n",
       "       ..\n",
       "2182    0\n",
       "3575    0\n",
       "3228    1\n",
       "1305    0\n",
       "1287    1\n",
       "Name: Label, Length: 399, dtype: int64"
      ]
     },
     "execution_count": 92,
     "metadata": {},
     "output_type": "execute_result"
    }
   ],
   "source": [
    "y_test"
   ]
  },
  {
   "cell_type": "code",
   "execution_count": 94,
   "metadata": {},
   "outputs": [
    {
     "name": "stdout",
     "output_type": "stream",
     "text": [
      "0.9573934837092731\n",
      "              precision    recall  f1-score   support\n",
      "\n",
      "           0       0.93      0.99      0.96       197\n",
      "           1       0.99      0.93      0.96       202\n",
      "\n",
      "    accuracy                           0.96       399\n",
      "   macro avg       0.96      0.96      0.96       399\n",
      "weighted avg       0.96      0.96      0.96       399\n",
      "\n"
     ]
    }
   ],
   "source": [
    "print(sklearn.metrics.accuracy_score(y_test,pre1))\n",
    "print(sklearn.metrics.classification_report(y_test,pre1))"
   ]
  },
  {
   "cell_type": "code",
   "execution_count": 95,
   "metadata": {},
   "outputs": [
    {
     "name": "stdout",
     "output_type": "stream",
     "text": [
      "[[195   2]\n",
      " [ 15 187]]\n"
     ]
    }
   ],
   "source": [
    "print(sklearn.metrics.confusion_matrix(y_test,pre1))"
   ]
  },
  {
   "cell_type": "code",
   "execution_count": 96,
   "metadata": {},
   "outputs": [],
   "source": [
    "from sklearn import tree"
   ]
  },
  {
   "cell_type": "code",
   "execution_count": 97,
   "metadata": {},
   "outputs": [
    {
     "data": {
      "text/plain": [
       "[Text(257.39793457031254, 211.04470588235293, 'X[8898] <= 1.5\\ngini = 0.497\\nsamples = 3589\\nvalue = [1923, 1666]'),\n",
       " Text(203.01336914062503, 198.25411764705882, 'X[7203] <= 0.5\\ngini = 0.385\\nsamples = 2304\\nvalue = [1705, 599]'),\n",
       " Text(138.18673828125003, 185.4635294117647, 'X[7261] <= 1.5\\ngini = 0.48\\nsamples = 1490\\nvalue = [893, 597]'),\n",
       " Text(53.35875000000001, 172.6729411764706, 'X[9490] <= 1.5\\ngini = 0.278\\nsamples = 702\\nvalue = [585, 117]'),\n",
       " Text(35.572500000000005, 159.88235294117646, 'X[7090] <= 0.5\\ngini = 0.124\\nsamples = 604\\nvalue = [564, 40]'),\n",
       " Text(25.110000000000003, 147.09176470588235, 'X[8088] <= 0.5\\ngini = 0.078\\nsamples = 587\\nvalue = [563, 24]'),\n",
       " Text(16.740000000000002, 134.30117647058825, 'X[5233] <= 0.5\\ngini = 0.041\\nsamples = 571\\nvalue = [559, 12]'),\n",
       " Text(12.555000000000001, 121.51058823529411, 'X[9553] <= 1.5\\ngini = 0.021\\nsamples = 565\\nvalue = [559, 6]'),\n",
       " Text(8.370000000000001, 108.72, 'X[5434] <= 0.5\\ngini = 0.007\\nsamples = 561\\nvalue = [559, 2]'),\n",
       " Text(4.1850000000000005, 95.92941176470588, 'gini = 0.0\\nsamples = 559\\nvalue = [559, 0]'),\n",
       " Text(12.555000000000001, 95.92941176470588, 'gini = 0.0\\nsamples = 2\\nvalue = [0, 2]'),\n",
       " Text(16.740000000000002, 108.72, 'gini = 0.0\\nsamples = 4\\nvalue = [0, 4]'),\n",
       " Text(20.925000000000004, 121.51058823529411, 'gini = 0.0\\nsamples = 6\\nvalue = [0, 6]'),\n",
       " Text(33.480000000000004, 134.30117647058825, 'X[4742] <= 0.5\\ngini = 0.375\\nsamples = 16\\nvalue = [4, 12]'),\n",
       " Text(29.295, 121.51058823529411, 'X[3668] <= 0.5\\ngini = 0.142\\nsamples = 13\\nvalue = [1, 12]'),\n",
       " Text(25.110000000000003, 108.72, 'gini = 0.0\\nsamples = 12\\nvalue = [0, 12]'),\n",
       " Text(33.480000000000004, 108.72, 'gini = 0.0\\nsamples = 1\\nvalue = [1, 0]'),\n",
       " Text(37.665000000000006, 121.51058823529411, 'gini = 0.0\\nsamples = 3\\nvalue = [3, 0]'),\n",
       " Text(46.035000000000004, 147.09176470588235, 'X[3262] <= 0.5\\ngini = 0.111\\nsamples = 17\\nvalue = [1, 16]'),\n",
       " Text(41.85000000000001, 134.30117647058825, 'gini = 0.0\\nsamples = 16\\nvalue = [0, 16]'),\n",
       " Text(50.220000000000006, 134.30117647058825, 'gini = 0.0\\nsamples = 1\\nvalue = [1, 0]'),\n",
       " Text(71.14500000000001, 159.88235294117646, 'X[9512] <= 0.5\\ngini = 0.337\\nsamples = 98\\nvalue = [21, 77]'),\n",
       " Text(62.775000000000006, 147.09176470588235, 'X[7658] <= 0.5\\ngini = 0.151\\nsamples = 73\\nvalue = [6, 67]'),\n",
       " Text(58.59, 134.30117647058825, 'X[7145] <= 4.5\\ngini = 0.082\\nsamples = 70\\nvalue = [3, 67]'),\n",
       " Text(54.40500000000001, 121.51058823529411, 'X[5971] <= 0.5\\ngini = 0.029\\nsamples = 68\\nvalue = [1, 67]'),\n",
       " Text(50.220000000000006, 108.72, 'gini = 0.0\\nsamples = 67\\nvalue = [0, 67]'),\n",
       " Text(58.59, 108.72, 'gini = 0.0\\nsamples = 1\\nvalue = [1, 0]'),\n",
       " Text(62.775000000000006, 121.51058823529411, 'gini = 0.0\\nsamples = 2\\nvalue = [2, 0]'),\n",
       " Text(66.96000000000001, 134.30117647058825, 'gini = 0.0\\nsamples = 3\\nvalue = [3, 0]'),\n",
       " Text(79.51500000000001, 147.09176470588235, 'X[9909] <= 1.5\\ngini = 0.48\\nsamples = 25\\nvalue = [15, 10]'),\n",
       " Text(75.33000000000001, 134.30117647058825, 'X[9980] <= 0.5\\ngini = 0.332\\nsamples = 19\\nvalue = [15, 4]'),\n",
       " Text(71.14500000000001, 121.51058823529411, 'X[9070] <= 0.5\\ngini = 0.208\\nsamples = 17\\nvalue = [15, 2]'),\n",
       " Text(66.96000000000001, 108.72, 'gini = 0.0\\nsamples = 15\\nvalue = [15, 0]'),\n",
       " Text(75.33000000000001, 108.72, 'gini = 0.0\\nsamples = 2\\nvalue = [0, 2]'),\n",
       " Text(79.51500000000001, 121.51058823529411, 'gini = 0.0\\nsamples = 2\\nvalue = [0, 2]'),\n",
       " Text(83.70000000000002, 134.30117647058825, 'gini = 0.0\\nsamples = 6\\nvalue = [0, 6]'),\n",
       " Text(223.01472656250002, 172.6729411764706, 'X[5193] <= 0.5\\ngini = 0.476\\nsamples = 788\\nvalue = [308, 480]'),\n",
       " Text(194.929453125, 159.88235294117646, 'X[5974] <= 0.5\\ngini = 0.407\\nsamples = 666\\nvalue = [189, 477]'),\n",
       " Text(165.96140625, 147.09176470588235, 'X[5402] <= 0.5\\ngini = 0.323\\nsamples = 573\\nvalue = [116, 457]'),\n",
       " Text(139.41281250000003, 134.30117647058825, 'X[5401] <= 0.5\\ngini = 0.261\\nsamples = 532\\nvalue = [82, 450]'),\n",
       " Text(107.24062500000001, 121.51058823529411, 'X[8018] <= 0.5\\ngini = 0.2\\nsamples = 496\\nvalue = [56, 440]'),\n",
       " Text(83.70000000000002, 108.72, 'X[6974] <= 2.5\\ngini = 0.091\\nsamples = 397\\nvalue = [19, 378]'),\n",
       " Text(79.51500000000001, 95.92941176470588, 'X[5681] <= 0.5\\ngini = 0.073\\nsamples = 393\\nvalue = [15, 378]'),\n",
       " Text(71.14500000000001, 83.13882352941175, 'X[7303] <= 1.5\\ngini = 0.055\\nsamples = 388\\nvalue = [11, 377]'),\n",
       " Text(66.96000000000001, 70.34823529411764, 'X[9726] <= 0.5\\ngini = 0.041\\nsamples = 385\\nvalue = [8, 377]'),\n",
       " Text(62.775000000000006, 57.557647058823534, 'X[1700] <= 0.5\\ngini = 0.031\\nsamples = 383\\nvalue = [6, 377]'),\n",
       " Text(58.59, 44.767058823529396, 'X[7615] <= 0.5\\ngini = 0.021\\nsamples = 381\\nvalue = [4, 377]'),\n",
       " Text(54.40500000000001, 31.976470588235287, 'X[7301] <= 1.5\\ngini = 0.01\\nsamples = 379\\nvalue = [2, 377]'),\n",
       " Text(50.220000000000006, 19.185882352941178, 'gini = 0.0\\nsamples = 376\\nvalue = [0, 376]'),\n",
       " Text(58.59, 19.185882352941178, 'X[8978] <= 2.0\\ngini = 0.444\\nsamples = 3\\nvalue = [2, 1]'),\n",
       " Text(54.40500000000001, 6.39529411764704, 'gini = 0.0\\nsamples = 2\\nvalue = [2, 0]'),\n",
       " Text(62.775000000000006, 6.39529411764704, 'gini = 0.0\\nsamples = 1\\nvalue = [0, 1]'),\n",
       " Text(62.775000000000006, 31.976470588235287, 'gini = 0.0\\nsamples = 2\\nvalue = [2, 0]'),\n",
       " Text(66.96000000000001, 44.767058823529396, 'gini = 0.0\\nsamples = 2\\nvalue = [2, 0]'),\n",
       " Text(71.14500000000001, 57.557647058823534, 'gini = 0.0\\nsamples = 2\\nvalue = [2, 0]'),\n",
       " Text(75.33000000000001, 70.34823529411764, 'gini = 0.0\\nsamples = 3\\nvalue = [3, 0]'),\n",
       " Text(87.885, 83.13882352941175, 'X[5053] <= 1.0\\ngini = 0.32\\nsamples = 5\\nvalue = [4, 1]'),\n",
       " Text(83.70000000000002, 70.34823529411764, 'gini = 0.0\\nsamples = 4\\nvalue = [4, 0]'),\n",
       " Text(92.07000000000001, 70.34823529411764, 'gini = 0.0\\nsamples = 1\\nvalue = [0, 1]'),\n",
       " Text(87.885, 95.92941176470588, 'gini = 0.0\\nsamples = 4\\nvalue = [4, 0]'),\n",
       " Text(130.78125000000003, 108.72, 'X[9050] <= 0.5\\ngini = 0.468\\nsamples = 99\\nvalue = [37, 62]'),\n",
       " Text(119.27250000000001, 95.92941176470588, 'X[8898] <= 0.5\\ngini = 0.499\\nsamples = 69\\nvalue = [36, 33]'),\n",
       " Text(108.81000000000002, 83.13882352941175, 'X[5559] <= 0.5\\ngini = 0.435\\nsamples = 50\\nvalue = [34, 16]'),\n",
       " Text(100.44000000000001, 70.34823529411764, 'X[9880] <= 0.5\\ngini = 0.444\\nsamples = 18\\nvalue = [6, 12]'),\n",
       " Text(96.25500000000001, 57.557647058823534, 'X[9988] <= 6.0\\ngini = 0.142\\nsamples = 13\\nvalue = [1, 12]'),\n",
       " Text(92.07000000000001, 44.767058823529396, 'gini = 0.0\\nsamples = 12\\nvalue = [0, 12]'),\n",
       " Text(100.44000000000001, 44.767058823529396, 'gini = 0.0\\nsamples = 1\\nvalue = [1, 0]'),\n",
       " Text(104.62500000000001, 57.557647058823534, 'gini = 0.0\\nsamples = 5\\nvalue = [5, 0]'),\n",
       " Text(117.18, 70.34823529411764, 'X[7324] <= 0.5\\ngini = 0.219\\nsamples = 32\\nvalue = [28, 4]'),\n",
       " Text(112.99500000000002, 57.557647058823534, 'X[6440] <= 0.5\\ngini = 0.067\\nsamples = 29\\nvalue = [28, 1]'),\n",
       " Text(108.81000000000002, 44.767058823529396, 'gini = 0.0\\nsamples = 28\\nvalue = [28, 0]'),\n",
       " Text(117.18, 44.767058823529396, 'gini = 0.0\\nsamples = 1\\nvalue = [0, 1]'),\n",
       " Text(121.36500000000001, 57.557647058823534, 'gini = 0.0\\nsamples = 3\\nvalue = [0, 3]'),\n",
       " Text(129.735, 83.13882352941175, 'X[7793] <= 0.5\\ngini = 0.188\\nsamples = 19\\nvalue = [2, 17]'),\n",
       " Text(125.55000000000001, 70.34823529411764, 'gini = 0.0\\nsamples = 17\\nvalue = [0, 17]'),\n",
       " Text(133.92000000000002, 70.34823529411764, 'gini = 0.0\\nsamples = 2\\nvalue = [2, 0]'),\n",
       " Text(142.29000000000002, 95.92941176470588, 'X[7552] <= 3.0\\ngini = 0.064\\nsamples = 30\\nvalue = [1, 29]'),\n",
       " Text(138.10500000000002, 83.13882352941175, 'gini = 0.0\\nsamples = 29\\nvalue = [0, 29]'),\n",
       " Text(146.47500000000002, 83.13882352941175, 'gini = 0.0\\nsamples = 1\\nvalue = [1, 0]'),\n",
       " Text(171.585, 121.51058823529411, 'X[9843] <= 0.5\\ngini = 0.401\\nsamples = 36\\nvalue = [26, 10]'),\n",
       " Text(167.40000000000003, 108.72, 'X[8304] <= 0.5\\ngini = 0.271\\nsamples = 31\\nvalue = [26, 5]'),\n",
       " Text(159.03000000000003, 95.92941176470588, 'X[8508] <= 0.5\\ngini = 0.137\\nsamples = 27\\nvalue = [25, 2]'),\n",
       " Text(154.84500000000003, 83.13882352941175, 'gini = 0.0\\nsamples = 25\\nvalue = [25, 0]'),\n",
       " Text(163.21500000000003, 83.13882352941175, 'gini = 0.0\\nsamples = 2\\nvalue = [0, 2]'),\n",
       " Text(175.77, 95.92941176470588, 'X[9553] <= 32.0\\ngini = 0.375\\nsamples = 4\\nvalue = [1, 3]'),\n",
       " Text(171.585, 83.13882352941175, 'gini = 0.0\\nsamples = 3\\nvalue = [0, 3]'),\n",
       " Text(179.955, 83.13882352941175, 'gini = 0.0\\nsamples = 1\\nvalue = [1, 0]'),\n",
       " Text(175.77, 108.72, 'gini = 0.0\\nsamples = 5\\nvalue = [0, 5]'),\n",
       " Text(192.51000000000002, 134.30117647058825, 'X[6473] <= 1.5\\ngini = 0.283\\nsamples = 41\\nvalue = [34, 7]'),\n",
       " Text(188.32500000000002, 121.51058823529411, 'X[7501] <= 12.5\\ngini = 0.056\\nsamples = 35\\nvalue = [34, 1]'),\n",
       " Text(184.14000000000001, 108.72, 'gini = 0.0\\nsamples = 34\\nvalue = [34, 0]'),\n",
       " Text(192.51000000000002, 108.72, 'gini = 0.0\\nsamples = 1\\nvalue = [0, 1]'),\n",
       " Text(196.69500000000002, 121.51058823529411, 'gini = 0.0\\nsamples = 6\\nvalue = [0, 6]'),\n",
       " Text(223.89750000000004, 147.09176470588235, 'X[6722] <= 0.5\\ngini = 0.338\\nsamples = 93\\nvalue = [73, 20]'),\n",
       " Text(213.43500000000003, 134.30117647058825, 'X[7842] <= 0.5\\ngini = 0.23\\nsamples = 83\\nvalue = [72, 11]'),\n",
       " Text(205.06500000000003, 121.51058823529411, 'X[7947] <= 3.0\\ngini = 0.144\\nsamples = 77\\nvalue = [71, 6]'),\n",
       " Text(200.88000000000002, 108.72, 'X[6508] <= 0.5\\ngini = 0.101\\nsamples = 75\\nvalue = [71, 4]'),\n",
       " Text(196.69500000000002, 95.92941176470588, 'X[5075] <= 0.5\\ngini = 0.053\\nsamples = 73\\nvalue = [71, 2]'),\n",
       " Text(192.51000000000002, 83.13882352941175, 'X[6697] <= 0.5\\ngini = 0.027\\nsamples = 72\\nvalue = [71, 1]'),\n",
       " Text(188.32500000000002, 70.34823529411764, 'gini = 0.0\\nsamples = 71\\nvalue = [71, 0]'),\n",
       " Text(196.69500000000002, 70.34823529411764, 'gini = 0.0\\nsamples = 1\\nvalue = [0, 1]'),\n",
       " Text(200.88000000000002, 83.13882352941175, 'gini = 0.0\\nsamples = 1\\nvalue = [0, 1]'),\n",
       " Text(205.06500000000003, 95.92941176470588, 'gini = 0.0\\nsamples = 2\\nvalue = [0, 2]'),\n",
       " Text(209.25000000000003, 108.72, 'gini = 0.0\\nsamples = 2\\nvalue = [0, 2]'),\n",
       " Text(221.80500000000004, 121.51058823529411, 'X[8331] <= 0.5\\ngini = 0.278\\nsamples = 6\\nvalue = [1, 5]'),\n",
       " Text(217.62000000000003, 108.72, 'gini = 0.0\\nsamples = 5\\nvalue = [0, 5]'),\n",
       " Text(225.99000000000004, 108.72, 'gini = 0.0\\nsamples = 1\\nvalue = [1, 0]'),\n",
       " Text(234.36, 134.30117647058825, 'X[5463] <= 0.5\\ngini = 0.18\\nsamples = 10\\nvalue = [1, 9]'),\n",
       " Text(230.17500000000004, 121.51058823529411, 'gini = 0.0\\nsamples = 9\\nvalue = [0, 9]'),\n",
       " Text(238.54500000000002, 121.51058823529411, 'gini = 0.0\\nsamples = 1\\nvalue = [1, 0]'),\n",
       " Text(251.10000000000002, 159.88235294117646, 'X[8244] <= 0.5\\ngini = 0.048\\nsamples = 122\\nvalue = [119, 3]'),\n",
       " Text(246.91500000000002, 147.09176470588235, 'X[7261] <= 3.0\\ngini = 0.017\\nsamples = 120\\nvalue = [119, 1]'),\n",
       " Text(242.73000000000002, 134.30117647058825, 'gini = 0.0\\nsamples = 1\\nvalue = [0, 1]'),\n",
       " Text(251.10000000000002, 134.30117647058825, 'gini = 0.0\\nsamples = 119\\nvalue = [119, 0]'),\n",
       " Text(255.28500000000003, 147.09176470588235, 'gini = 0.0\\nsamples = 2\\nvalue = [0, 2]'),\n",
       " Text(267.84000000000003, 185.4635294117647, 'X[7396] <= 0.5\\ngini = 0.005\\nsamples = 814\\nvalue = [812, 2]'),\n",
       " Text(263.65500000000003, 172.6729411764706, 'X[7281] <= 0.5\\ngini = 0.444\\nsamples = 3\\nvalue = [1, 2]'),\n",
       " Text(259.47, 159.88235294117646, 'gini = 0.0\\nsamples = 2\\nvalue = [0, 2]'),\n",
       " Text(267.84000000000003, 159.88235294117646, 'gini = 0.0\\nsamples = 1\\nvalue = [1, 0]'),\n",
       " Text(272.02500000000003, 172.6729411764706, 'gini = 0.0\\nsamples = 811\\nvalue = [811, 0]'),\n",
       " Text(311.7825, 198.25411764705882, 'X[7203] <= 0.5\\ngini = 0.282\\nsamples = 1285\\nvalue = [218, 1067]'),\n",
       " Text(297.13500000000005, 185.4635294117647, 'X[9260] <= 0.5\\ngini = 0.171\\nsamples = 1175\\nvalue = [111, 1064]'),\n",
       " Text(292.95000000000005, 172.6729411764706, 'X[5402] <= 0.5\\ngini = 0.116\\nsamples = 1134\\nvalue = [70, 1064]'),\n",
       " Text(276.21000000000004, 159.88235294117646, 'X[8639] <= 0.5\\ngini = 0.077\\nsamples = 1099\\nvalue = [44, 1055]'),\n",
       " Text(267.84000000000003, 147.09176470588235, 'X[5620] <= 1.0\\ngini = 0.044\\nsamples = 1074\\nvalue = [24, 1050]'),\n",
       " Text(263.65500000000003, 134.30117647058825, 'X[4450] <= 0.5\\ngini = 0.035\\nsamples = 1069\\nvalue = [19, 1050]'),\n",
       " Text(259.47, 121.51058823529411, 'X[7361] <= 0.5\\ngini = 0.028\\nsamples = 1065\\nvalue = [15, 1050]'),\n",
       " Text(249.00750000000002, 108.72, 'X[5915] <= 1.5\\ngini = 0.017\\nsamples = 1054\\nvalue = [9, 1045]'),\n",
       " Text(240.63750000000002, 95.92941176470588, 'X[155] <= 0.5\\ngini = 0.01\\nsamples = 1047\\nvalue = [5, 1042]'),\n",
       " Text(236.45250000000001, 83.13882352941175, 'X[6974] <= 9.0\\ngini = 0.006\\nsamples = 1045\\nvalue = [3, 1042]'),\n",
       " Text(232.26750000000004, 70.34823529411764, 'X[7202] <= 0.5\\ngini = 0.004\\nsamples = 1044\\nvalue = [2, 1042]'),\n",
       " Text(228.08250000000004, 57.557647058823534, 'X[1756] <= 0.5\\ngini = 0.002\\nsamples = 1043\\nvalue = [1, 1042]'),\n",
       " Text(223.89750000000004, 44.767058823529396, 'gini = 0.0\\nsamples = 1042\\nvalue = [0, 1042]'),\n",
       " Text(232.26750000000004, 44.767058823529396, 'gini = 0.0\\nsamples = 1\\nvalue = [1, 0]'),\n",
       " Text(236.45250000000001, 57.557647058823534, 'gini = 0.0\\nsamples = 1\\nvalue = [1, 0]'),\n",
       " Text(240.63750000000002, 70.34823529411764, 'gini = 0.0\\nsamples = 1\\nvalue = [1, 0]'),\n",
       " Text(244.82250000000002, 83.13882352941175, 'gini = 0.0\\nsamples = 2\\nvalue = [2, 0]'),\n",
       " Text(257.37750000000005, 95.92941176470588, 'X[9544] <= 0.5\\ngini = 0.49\\nsamples = 7\\nvalue = [4, 3]'),\n",
       " Text(253.19250000000002, 83.13882352941175, 'gini = 0.0\\nsamples = 3\\nvalue = [0, 3]'),\n",
       " Text(261.56250000000006, 83.13882352941175, 'gini = 0.0\\nsamples = 4\\nvalue = [4, 0]'),\n",
       " Text(269.9325, 108.72, 'X[9504] <= 2.5\\ngini = 0.496\\nsamples = 11\\nvalue = [6, 5]'),\n",
       " Text(265.74750000000006, 95.92941176470588, 'gini = 0.0\\nsamples = 5\\nvalue = [0, 5]'),\n",
       " Text(274.1175, 95.92941176470588, 'gini = 0.0\\nsamples = 6\\nvalue = [6, 0]'),\n",
       " Text(267.84000000000003, 121.51058823529411, 'gini = 0.0\\nsamples = 4\\nvalue = [4, 0]'),\n",
       " Text(272.02500000000003, 134.30117647058825, 'gini = 0.0\\nsamples = 5\\nvalue = [5, 0]'),\n",
       " Text(284.58000000000004, 147.09176470588235, 'X[8633] <= 1.5\\ngini = 0.32\\nsamples = 25\\nvalue = [20, 5]'),\n",
       " Text(280.39500000000004, 134.30117647058825, 'X[9309] <= 1.5\\ngini = 0.091\\nsamples = 21\\nvalue = [20, 1]'),\n",
       " Text(276.21000000000004, 121.51058823529411, 'gini = 0.0\\nsamples = 20\\nvalue = [20, 0]'),\n",
       " Text(284.58000000000004, 121.51058823529411, 'gini = 0.0\\nsamples = 1\\nvalue = [0, 1]'),\n",
       " Text(288.76500000000004, 134.30117647058825, 'gini = 0.0\\nsamples = 4\\nvalue = [0, 4]'),\n",
       " Text(309.69000000000005, 159.88235294117646, 'X[5734] <= 4.0\\ngini = 0.382\\nsamples = 35\\nvalue = [26, 9]'),\n",
       " Text(301.32000000000005, 147.09176470588235, 'X[9539] <= 0.5\\ngini = 0.074\\nsamples = 26\\nvalue = [25, 1]'),\n",
       " Text(297.13500000000005, 134.30117647058825, 'gini = 0.0\\nsamples = 25\\nvalue = [25, 0]'),\n",
       " Text(305.50500000000005, 134.30117647058825, 'gini = 0.0\\nsamples = 1\\nvalue = [0, 1]'),\n",
       " Text(318.06000000000006, 147.09176470588235, 'X[6433] <= 7.5\\ngini = 0.198\\nsamples = 9\\nvalue = [1, 8]'),\n",
       " Text(313.87500000000006, 134.30117647058825, 'gini = 0.0\\nsamples = 8\\nvalue = [0, 8]'),\n",
       " Text(322.24500000000006, 134.30117647058825, 'gini = 0.0\\nsamples = 1\\nvalue = [1, 0]'),\n",
       " Text(301.32000000000005, 172.6729411764706, 'gini = 0.0\\nsamples = 41\\nvalue = [41, 0]'),\n",
       " Text(326.43000000000006, 185.4635294117647, 'X[9789] <= 0.5\\ngini = 0.053\\nsamples = 110\\nvalue = [107, 3]'),\n",
       " Text(322.24500000000006, 172.6729411764706, 'X[6714] <= 2.0\\ngini = 0.018\\nsamples = 108\\nvalue = [107, 1]'),\n",
       " Text(318.06000000000006, 159.88235294117646, 'gini = 0.0\\nsamples = 107\\nvalue = [107, 0]'),\n",
       " Text(326.43000000000006, 159.88235294117646, 'gini = 0.0\\nsamples = 1\\nvalue = [0, 1]'),\n",
       " Text(330.61500000000007, 172.6729411764706, 'gini = 0.0\\nsamples = 2\\nvalue = [0, 2]')]"
      ]
     },
     "execution_count": 97,
     "metadata": {},
     "output_type": "execute_result"
    },
    {
     "data": {
      "image/png": "[encoded data removed]",
      "text/plain": [
       "<Figure size 432x288 with 1 Axes>"
      ]
     },
     "metadata": {
      "needs_background": "light"
     },
     "output_type": "display_data"
    }
   ],
   "source": [
    "tree.plot_tree(cls1,filled=True)"
   ]
  },
  {
   "cell_type": "code",
   "execution_count": 99,
   "metadata": {},
   "outputs": [
    {
     "data": {
      "text/plain": [
       "<matplotlib.collections.PathCollection at 0x291d8f97448>"
      ]
     },
     "execution_count": 99,
     "metadata": {},
     "output_type": "execute_result"
    },
    {
     "data": {
      "image/png": "[encoded data removed]",
      "text/plain": [
       "<Figure size 432x288 with 1 Axes>"
      ]
     },
     "metadata": {
      "needs_background": "light"
     },
     "output_type": "display_data"
    }
   ],
   "source": [
    "plt.scatter(y_test,pre1)"
   ]
  },
  {
   "cell_type": "code",
   "execution_count": null,
   "metadata": {},
   "outputs": [],
   "source": []
  }
 ],
 "metadata": {
  "kernelspec": {
   "display_name": "Python 3",
   "language": "python",
   "name": "python3"
  },
  "language_info": {
   "codemirror_mode": {
    "name": "ipython",
    "version": 3
   },
   "file_extension": ".py",
   "mimetype": "text/x-python",
   "name": "python",
   "nbconvert_exporter": "python",
   "pygments_lexer": "ipython3",
   "version": "3.7.6"
  }
 },
 "nbformat": 4,
 "nbformat_minor": 4
}
